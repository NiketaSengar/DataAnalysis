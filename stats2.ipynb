{
 "cells": [
  {
   "cell_type": "code",
   "execution_count": 9,
   "id": "7117a54e",
   "metadata": {},
   "outputs": [],
   "source": [
    "import pandas as pd\n",
    "import numpy as np\n",
    "import matplotlib.pyplot as plt\n",
    "import seaborn as sns\n",
    "%matplotlib inline"
   ]
  },
  {
   "cell_type": "code",
   "execution_count": 10,
   "id": "7c7c1d84",
   "metadata": {},
   "outputs": [],
   "source": [
    "# defining the dataset\n",
    "dataset=[11,10,12,14,12,15,14,13,15,102,12,14,17,19,107,10,13,12,14,108,12,11,14,13,15,10,15,12,10,14,13,15,10]"
   ]
  },
  {
   "cell_type": "code",
   "execution_count": 11,
   "id": "07acd7ea",
   "metadata": {},
   "outputs": [
    {
     "data": {
      "text/plain": [
       "<Axes: >"
      ]
     },
     "execution_count": 11,
     "metadata": {},
     "output_type": "execute_result"
    },
    {
     "data": {
      "image/png": "[encoded data removed]",
      "text/plain": [
       "<Figure size 640x480 with 1 Axes>"
      ]
     },
     "metadata": {},
     "output_type": "display_data"
    }
   ],
   "source": [
    "#outliers\n",
    "sns.boxplot(dataset)"
   ]
  },
  {
   "cell_type": "code",
   "execution_count": 21,
   "id": "c8dfcebd",
   "metadata": {},
   "outputs": [],
   "source": [
    "def outliers_detection(dataset,threshold):\n",
    "    mean=np.mean(dataset)\n",
    "    std=np.std(dataset)\n",
    "    threshold=3.0\n",
    "    outliers=[]\n",
    "    for i in dataset:\n",
    "        z_score=(i-mean)/std\n",
    "        if z_score>threshold:\n",
    "            outliers.append(i)\n",
    "    return outliers"
   ]
  },
  {
   "cell_type": "code",
   "execution_count": 24,
   "id": "a93209fc",
   "metadata": {},
   "outputs": [
    {
     "name": "stdout",
     "output_type": "stream",
     "text": [
      "outliers are: [102, 107, 108]\n"
     ]
    }
   ],
   "source": [
    "print('outliers are:',outliers_detection(dataset,threshold))"
   ]
  },
  {
   "cell_type": "code",
   "execution_count": 27,
   "id": "2acbc9db",
   "metadata": {},
   "outputs": [],
   "source": [
    "# calculating the IQR\n",
    "# sort the data\n",
    "# calculate Q1 & Q3\n",
    "# IQR=Q3-Q1\n",
    "# Find the lower fence= Q1-1.5(IQR)\n",
    "# Find the Upper fence= Q3+1.5(IQR)"
   ]
  },
  {
   "cell_type": "code",
   "execution_count": 28,
   "id": "073ea42b",
   "metadata": {},
   "outputs": [
    {
     "name": "stdout",
     "output_type": "stream",
     "text": [
      "[10, 10, 10, 10, 10, 11, 11, 12, 12, 12, 12, 12, 12, 13, 13, 13, 13, 14, 14, 14, 14, 14, 14, 15, 15, 15, 15, 15, 17, 19, 102, 107, 108]\n"
     ]
    }
   ],
   "source": [
    "dataset=sorted(dataset)\n",
    "print(dataset)"
   ]
  },
  {
   "cell_type": "code",
   "execution_count": 31,
   "id": "b0e759df",
   "metadata": {},
   "outputs": [
    {
     "name": "stdout",
     "output_type": "stream",
     "text": [
      "12.0 15.0\n"
     ]
    }
   ],
   "source": [
    "q1,q3=np.percentile(dataset,[25,75])\n",
    "print(q1,q3)"
   ]
  },
  {
   "cell_type": "code",
   "execution_count": 34,
   "id": "5f3553b3",
   "metadata": {},
   "outputs": [
    {
     "name": "stdout",
     "output_type": "stream",
     "text": [
      "lower fence is:  7.5\n",
      "higher fence is:  19.5\n"
     ]
    }
   ],
   "source": [
    "# finding lower fence and higher fence \n",
    "iqr=q3-q1\n",
    "lower_fence=q1-1.5*(iqr)\n",
    "higher_fence=q3+1.5*(iqr)\n",
    "print(\"lower fence is: \", lower_fence)\n",
    "print(\"higher fence is: \", higher_fence)"
   ]
  },
  {
   "cell_type": "code",
   "execution_count": 39,
   "id": "9ba8a3fc",
   "metadata": {},
   "outputs": [
    {
     "name": "stdout",
     "output_type": "stream",
     "text": [
      "10\n",
      "10\n",
      "10\n",
      "10\n",
      "10\n",
      "11\n",
      "11\n",
      "12\n",
      "12\n",
      "12\n",
      "12\n",
      "12\n",
      "12\n",
      "13\n",
      "13\n",
      "13\n",
      "13\n",
      "14\n",
      "14\n",
      "14\n",
      "14\n",
      "14\n",
      "14\n",
      "15\n",
      "15\n",
      "15\n",
      "15\n",
      "15\n",
      "17\n",
      "19\n",
      "102\n",
      "107\n",
      "108\n"
     ]
    }
   ],
   "source": [
    "for i in dataset:\n",
    "    if not (i<7.5 and i>19.5):\n",
    "        print(i)"
   ]
  },
  {
   "cell_type": "code",
   "execution_count": null,
   "id": "d826efc1",
   "metadata": {},
   "outputs": [],
   "source": []
  }
 ],
 "metadata": {
  "kernelspec": {
   "display_name": "Python 3 (ipykernel)",
   "language": "python",
   "name": "python3"
  },
  "language_info": {
   "codemirror_mode": {
    "name": "ipython",
    "version": 3
   },
   "file_extension": ".py",
   "mimetype": "text/x-python",
   "name": "python",
   "nbconvert_exporter": "python",
   "pygments_lexer": "ipython3",
   "version": "3.11.4"
  }
 },
 "nbformat": 4,
 "nbformat_minor": 5
}
